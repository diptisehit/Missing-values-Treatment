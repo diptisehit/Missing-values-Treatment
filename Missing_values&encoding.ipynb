{
 "cells": [
  {
   "cell_type": "code",
   "execution_count": null,
   "id": "3599dbab",
   "metadata": {
    "id": "3599dbab"
   },
   "outputs": [],
   "source": [
    "# Basis Library\n",
    "import os , sys\n",
    "import numpy as np\n",
    "import pandas as pd\n",
    "import matplotlib.pyplot as plt\n",
    "import seaborn as sns\n",
    "%matplotlib inline\n",
    "sns.set()\n",
    "import warnings\n",
    "warnings.filterwarnings('ignore')"
   ]
  },
  {
   "cell_type": "code",
   "execution_count": null,
   "id": "dc9b5d03",
   "metadata": {
    "id": "dc9b5d03",
    "outputId": "d5b47333-9430-4fd4-83f4-b2ab08767d21"
   },
   "outputs": [
    {
     "data": {
      "text/plain": [
       "'C:\\\\Users\\\\Lenovo\\\\Desktop\\\\Learnbay 8.30-12'"
      ]
     },
     "execution_count": 2,
     "metadata": {},
     "output_type": "execute_result"
    }
   ],
   "source": [
    "os.getcwd()"
   ]
  },
  {
   "cell_type": "code",
   "execution_count": null,
   "id": "f1a0fd2f",
   "metadata": {
    "id": "f1a0fd2f"
   },
   "outputs": [],
   "source": [
    "dataset = pd.read_excel('Employee_Data.xls')"
   ]
  },
  {
   "cell_type": "code",
   "execution_count": null,
   "id": "59f22225",
   "metadata": {
    "id": "59f22225",
    "outputId": "feea704c-354a-4435-c434-83b82aa2cdd1"
   },
   "outputs": [
    {
     "data": {
      "text/html": [
       "<div>\n",
       "<style scoped>\n",
       "    .dataframe tbody tr th:only-of-type {\n",
       "        vertical-align: middle;\n",
       "    }\n",
       "\n",
       "    .dataframe tbody tr th {\n",
       "        vertical-align: top;\n",
       "    }\n",
       "\n",
       "    .dataframe thead th {\n",
       "        text-align: right;\n",
       "    }\n",
       "</style>\n",
       "<table border=\"1\" class=\"dataframe\">\n",
       "  <thead>\n",
       "    <tr style=\"text-align: right;\">\n",
       "      <th></th>\n",
       "      <th>Employee Id</th>\n",
       "      <th>First Name</th>\n",
       "      <th>Last Name</th>\n",
       "      <th>Department</th>\n",
       "      <th>Age</th>\n",
       "      <th>Experience</th>\n",
       "      <th>Salary</th>\n",
       "    </tr>\n",
       "  </thead>\n",
       "  <tbody>\n",
       "    <tr>\n",
       "      <th>0</th>\n",
       "      <td>1</td>\n",
       "      <td>Joy</td>\n",
       "      <td>Bass</td>\n",
       "      <td>Sales and Marketing</td>\n",
       "      <td>28.0</td>\n",
       "      <td>3.0</td>\n",
       "      <td>32889</td>\n",
       "    </tr>\n",
       "    <tr>\n",
       "      <th>1</th>\n",
       "      <td>2</td>\n",
       "      <td>Sheila</td>\n",
       "      <td>Garza</td>\n",
       "      <td>Sales and Marketing</td>\n",
       "      <td>22.0</td>\n",
       "      <td>1.0</td>\n",
       "      <td>15944</td>\n",
       "    </tr>\n",
       "    <tr>\n",
       "      <th>2</th>\n",
       "      <td>3</td>\n",
       "      <td>John</td>\n",
       "      <td>Bryant</td>\n",
       "      <td>Customer Relations</td>\n",
       "      <td>22.0</td>\n",
       "      <td>1.0</td>\n",
       "      <td>40343</td>\n",
       "    </tr>\n",
       "    <tr>\n",
       "      <th>3</th>\n",
       "      <td>4</td>\n",
       "      <td>Christian</td>\n",
       "      <td>Farley</td>\n",
       "      <td>Customer Relations</td>\n",
       "      <td>22.0</td>\n",
       "      <td>1.0</td>\n",
       "      <td>19018</td>\n",
       "    </tr>\n",
       "    <tr>\n",
       "      <th>4</th>\n",
       "      <td>5</td>\n",
       "      <td>Colorado</td>\n",
       "      <td>Bowen</td>\n",
       "      <td>Accounting</td>\n",
       "      <td>27.0</td>\n",
       "      <td>0.0</td>\n",
       "      <td>24795</td>\n",
       "    </tr>\n",
       "  </tbody>\n",
       "</table>\n",
       "</div>"
      ],
      "text/plain": [
       "   Employee Id First Name Last Name           Department   Age  Experience  \\\n",
       "0            1        Joy      Bass  Sales and Marketing  28.0         3.0   \n",
       "1            2     Sheila     Garza  Sales and Marketing  22.0         1.0   \n",
       "2            3       John    Bryant   Customer Relations  22.0         1.0   \n",
       "3            4  Christian    Farley   Customer Relations  22.0         1.0   \n",
       "4            5   Colorado     Bowen           Accounting  27.0         0.0   \n",
       "\n",
       "   Salary  \n",
       "0   32889  \n",
       "1   15944  \n",
       "2   40343  \n",
       "3   19018  \n",
       "4   24795  "
      ]
     },
     "execution_count": 4,
     "metadata": {},
     "output_type": "execute_result"
    }
   ],
   "source": [
    "dataset.head()"
   ]
  },
  {
   "cell_type": "code",
   "execution_count": null,
   "id": "e7324772",
   "metadata": {
    "id": "e7324772"
   },
   "outputs": [],
   "source": [
    "mydata = dataset.copy()"
   ]
  },
  {
   "cell_type": "code",
   "execution_count": null,
   "id": "bc14d394",
   "metadata": {
    "id": "bc14d394",
    "outputId": "489a833d-75a5-42fe-f76e-28f91a181f0f"
   },
   "outputs": [
    {
     "data": {
      "text/html": [
       "<div>\n",
       "<style scoped>\n",
       "    .dataframe tbody tr th:only-of-type {\n",
       "        vertical-align: middle;\n",
       "    }\n",
       "\n",
       "    .dataframe tbody tr th {\n",
       "        vertical-align: top;\n",
       "    }\n",
       "\n",
       "    .dataframe thead th {\n",
       "        text-align: right;\n",
       "    }\n",
       "</style>\n",
       "<table border=\"1\" class=\"dataframe\">\n",
       "  <thead>\n",
       "    <tr style=\"text-align: right;\">\n",
       "      <th></th>\n",
       "      <th>Employee Id</th>\n",
       "      <th>First Name</th>\n",
       "      <th>Last Name</th>\n",
       "      <th>Department</th>\n",
       "      <th>Age</th>\n",
       "      <th>Experience</th>\n",
       "      <th>Salary</th>\n",
       "    </tr>\n",
       "  </thead>\n",
       "  <tbody>\n",
       "    <tr>\n",
       "      <th>0</th>\n",
       "      <td>1</td>\n",
       "      <td>Joy</td>\n",
       "      <td>Bass</td>\n",
       "      <td>Sales and Marketing</td>\n",
       "      <td>28.0</td>\n",
       "      <td>3.0</td>\n",
       "      <td>32889</td>\n",
       "    </tr>\n",
       "    <tr>\n",
       "      <th>1</th>\n",
       "      <td>2</td>\n",
       "      <td>Sheila</td>\n",
       "      <td>Garza</td>\n",
       "      <td>Sales and Marketing</td>\n",
       "      <td>22.0</td>\n",
       "      <td>1.0</td>\n",
       "      <td>15944</td>\n",
       "    </tr>\n",
       "    <tr>\n",
       "      <th>2</th>\n",
       "      <td>3</td>\n",
       "      <td>John</td>\n",
       "      <td>Bryant</td>\n",
       "      <td>Customer Relations</td>\n",
       "      <td>22.0</td>\n",
       "      <td>1.0</td>\n",
       "      <td>40343</td>\n",
       "    </tr>\n",
       "    <tr>\n",
       "      <th>3</th>\n",
       "      <td>4</td>\n",
       "      <td>Christian</td>\n",
       "      <td>Farley</td>\n",
       "      <td>Customer Relations</td>\n",
       "      <td>22.0</td>\n",
       "      <td>1.0</td>\n",
       "      <td>19018</td>\n",
       "    </tr>\n",
       "    <tr>\n",
       "      <th>4</th>\n",
       "      <td>5</td>\n",
       "      <td>Colorado</td>\n",
       "      <td>Bowen</td>\n",
       "      <td>Accounting</td>\n",
       "      <td>27.0</td>\n",
       "      <td>0.0</td>\n",
       "      <td>24795</td>\n",
       "    </tr>\n",
       "  </tbody>\n",
       "</table>\n",
       "</div>"
      ],
      "text/plain": [
       "   Employee Id First Name Last Name           Department   Age  Experience  \\\n",
       "0            1        Joy      Bass  Sales and Marketing  28.0         3.0   \n",
       "1            2     Sheila     Garza  Sales and Marketing  22.0         1.0   \n",
       "2            3       John    Bryant   Customer Relations  22.0         1.0   \n",
       "3            4  Christian    Farley   Customer Relations  22.0         1.0   \n",
       "4            5   Colorado     Bowen           Accounting  27.0         0.0   \n",
       "\n",
       "   Salary  \n",
       "0   32889  \n",
       "1   15944  \n",
       "2   40343  \n",
       "3   19018  \n",
       "4   24795  "
      ]
     },
     "execution_count": 6,
     "metadata": {},
     "output_type": "execute_result"
    }
   ],
   "source": [
    "mydata.head()"
   ]
  },
  {
   "cell_type": "code",
   "execution_count": null,
   "id": "ba8912be",
   "metadata": {
    "id": "ba8912be",
    "outputId": "1d57d43d-e43d-4609-d2a2-76f63fd32771"
   },
   "outputs": [
    {
     "name": "stdout",
     "output_type": "stream",
     "text": [
      "(100, 7)\n"
     ]
    }
   ],
   "source": [
    "# Q : How many data points and features we have ?\n",
    "print(dataset.shape)"
   ]
  },
  {
   "cell_type": "code",
   "execution_count": null,
   "id": "d092d679",
   "metadata": {
    "id": "d092d679",
    "outputId": "32e88f16-a84e-4907-a6a5-664ac28f8b3f"
   },
   "outputs": [
    {
     "name": "stdout",
     "output_type": "stream",
     "text": [
      "Index(['Employee Id', 'First Name', 'Last Name', 'Department', 'Age',\n",
      "       'Experience', 'Salary'],\n",
      "      dtype='object')\n"
     ]
    }
   ],
   "source": [
    "# Q : What are the columns name given in our dataset ?\n",
    "print(dataset.columns)"
   ]
  },
  {
   "cell_type": "code",
   "execution_count": null,
   "id": "9960f3bf",
   "metadata": {
    "id": "9960f3bf",
    "outputId": "cd9a8e30-13a7-4802-85ac-45451b172c66"
   },
   "outputs": [
    {
     "name": "stdout",
     "output_type": "stream",
     "text": [
      "<class 'pandas.core.frame.DataFrame'>\n",
      "RangeIndex: 100 entries, 0 to 99\n",
      "Data columns (total 7 columns):\n",
      " #   Column       Non-Null Count  Dtype  \n",
      "---  ------       --------------  -----  \n",
      " 0   Employee Id  100 non-null    int64  \n",
      " 1   First Name   100 non-null    object \n",
      " 2   Last Name    100 non-null    object \n",
      " 3   Department   81 non-null     object \n",
      " 4   Age          82 non-null     float64\n",
      " 5   Experience   90 non-null     float64\n",
      " 6   Salary       100 non-null    int64  \n",
      "dtypes: float64(2), int64(2), object(3)\n",
      "memory usage: 5.6+ KB\n"
     ]
    }
   ],
   "source": [
    "# Q : What are the datatype we have ?\n",
    "dataset.info()"
   ]
  },
  {
   "cell_type": "code",
   "execution_count": null,
   "id": "de031a44",
   "metadata": {
    "id": "de031a44",
    "outputId": "14f7b562-c512-4ea8-8906-654489490f26"
   },
   "outputs": [
    {
     "data": {
      "text/plain": [
       "Employee Id     0.0\n",
       "First Name      0.0\n",
       "Last Name       0.0\n",
       "Department     19.0\n",
       "Age            18.0\n",
       "Experience     10.0\n",
       "Salary          0.0\n",
       "dtype: float64"
      ]
     },
     "execution_count": 12,
     "metadata": {},
     "output_type": "execute_result"
    }
   ],
   "source": [
    "# Pre-processing \n",
    "# Part 1 : Handling missing value\n",
    "dataset.isnull().sum()/len(dataset)*100"
   ]
  },
  {
   "cell_type": "code",
   "execution_count": null,
   "id": "93298d57",
   "metadata": {
    "id": "93298d57",
    "outputId": "eb652589-3b20-4feb-b216-8e6e6241c389"
   },
   "outputs": [
    {
     "data": {
      "text/plain": [
       "Sales and Marketing    30\n",
       "Accounting             27\n",
       "Customer Relations     24\n",
       "Name: Department, dtype: int64"
      ]
     },
     "execution_count": 13,
     "metadata": {},
     "output_type": "execute_result"
    }
   ],
   "source": [
    "# imputation is required in the missing variable\n",
    "# Department - Object - MODE / most frequent occurence\n",
    "# Age and Experience - Number\n",
    "dataset['Department'].value_counts()"
   ]
  },
  {
   "cell_type": "code",
   "execution_count": null,
   "id": "908dd096",
   "metadata": {
    "id": "908dd096"
   },
   "outputs": [],
   "source": [
    "dataset['Department'] = dataset['Department'].fillna('Sales and Marketing')"
   ]
  },
  {
   "cell_type": "code",
   "execution_count": null,
   "id": "f7f1cd44",
   "metadata": {
    "id": "f7f1cd44",
    "outputId": "cfc0e750-dcf1-4deb-f9af-e8798fe4d520"
   },
   "outputs": [
    {
     "data": {
      "text/plain": [
       "Employee Id     0\n",
       "First Name      0\n",
       "Last Name       0\n",
       "Department      0\n",
       "Age            18\n",
       "Experience     10\n",
       "Salary          0\n",
       "dtype: int64"
      ]
     },
     "execution_count": 15,
     "metadata": {},
     "output_type": "execute_result"
    }
   ],
   "source": [
    "dataset.isnull().sum()"
   ]
  },
  {
   "cell_type": "code",
   "execution_count": null,
   "id": "f9a27ede",
   "metadata": {
    "id": "f9a27ede",
    "outputId": "22a4799c-3fab-4086-e163-6ae016bb462b"
   },
   "outputs": [
    {
     "data": {
      "text/plain": [
       "Sales and Marketing    49\n",
       "Accounting             27\n",
       "Customer Relations     24\n",
       "Name: Department, dtype: int64"
      ]
     },
     "execution_count": 16,
     "metadata": {},
     "output_type": "execute_result"
    }
   ],
   "source": [
    "dataset['Department'].value_counts()"
   ]
  },
  {
   "cell_type": "code",
   "execution_count": null,
   "id": "2889c622",
   "metadata": {
    "id": "2889c622",
    "outputId": "b59d7074-2fea-49c5-f237-d747f9eb7288"
   },
   "outputs": [
    {
     "data": {
      "text/plain": [
       "<AxesSubplot:ylabel='Age'>"
      ]
     },
     "execution_count": 17,
     "metadata": {},
     "output_type": "execute_result"
    },
    {
     "data": {
      "image/png": "[encoded data removed]",
      "text/plain": [
       "<Figure size 640x480 with 1 Axes>"
      ]
     },
     "metadata": {},
     "output_type": "display_data"
    }
   ],
   "source": [
    "# Age and Experience - Numerical variable\n",
    "# mean or median - check outlier\n",
    "# if outlier found - median and if no outlier - mean\n",
    "sns.boxplot(y='Age', data=dataset)\n",
    "\n",
    "# Age - Mean\n"
   ]
  },
  {
   "cell_type": "code",
   "execution_count": null,
   "id": "ecd085a1",
   "metadata": {
    "id": "ecd085a1",
    "outputId": "d476c084-ebc2-48bd-8a74-9a69f858f763"
   },
   "outputs": [
    {
     "data": {
      "text/plain": [
       "<AxesSubplot:ylabel='Experience'>"
      ]
     },
     "execution_count": 18,
     "metadata": {},
     "output_type": "execute_result"
    },
    {
     "data": {
      "image/png": "[encoded data removed]",
      "text/plain": [
       "<Figure size 640x480 with 1 Axes>"
      ]
     },
     "metadata": {},
     "output_type": "display_data"
    }
   ],
   "source": [
    "sns.boxplot(y='Experience', data=dataset)"
   ]
  },
  {
   "cell_type": "code",
   "execution_count": null,
   "id": "378777f4",
   "metadata": {
    "id": "378777f4"
   },
   "outputs": [],
   "source": [
    "dataset['Age'] = dataset['Age'].fillna(dataset['Age'].mean())"
   ]
  },
  {
   "cell_type": "code",
   "execution_count": null,
   "id": "43e1b3eb",
   "metadata": {
    "id": "43e1b3eb",
    "outputId": "937fbbe6-32ba-42ef-8049-e8299051cf27"
   },
   "outputs": [
    {
     "name": "stdout",
     "output_type": "stream",
     "text": [
      "Median : 39.5\n",
      "Mean : 37.97560975609756\n"
     ]
    }
   ],
   "source": [
    "print(\"Median :\",dataset['Age'].median())\n",
    "print(\"Mean :\", dataset['Age'].mean()"
   ]
  },
  {
   "cell_type": "code",
   "execution_count": null,
   "id": "9530bbbb",
   "metadata": {
    "id": "9530bbbb"
   },
   "outputs": [],
   "source": [
    "dataset['Experience'] = dataset['Experience'].fillna(dataset['Experience'].mean())"
   ]
  },
  {
   "cell_type": "code",
   "execution_count": null,
   "id": "2e8ed4e1",
   "metadata": {
    "id": "2e8ed4e1",
    "outputId": "acc1385e-a0c5-4f70-c8ea-020aca5a8c52"
   },
   "outputs": [
    {
     "data": {
      "text/html": [
       "<div>\n",
       "<style scoped>\n",
       "    .dataframe tbody tr th:only-of-type {\n",
       "        vertical-align: middle;\n",
       "    }\n",
       "\n",
       "    .dataframe tbody tr th {\n",
       "        vertical-align: top;\n",
       "    }\n",
       "\n",
       "    .dataframe thead th {\n",
       "        text-align: right;\n",
       "    }\n",
       "</style>\n",
       "<table border=\"1\" class=\"dataframe\">\n",
       "  <thead>\n",
       "    <tr style=\"text-align: right;\">\n",
       "      <th></th>\n",
       "      <th>Employee Id</th>\n",
       "      <th>Age</th>\n",
       "      <th>Experience</th>\n",
       "      <th>Salary</th>\n",
       "    </tr>\n",
       "  </thead>\n",
       "  <tbody>\n",
       "    <tr>\n",
       "      <th>count</th>\n",
       "      <td>100.000000</td>\n",
       "      <td>82.000000</td>\n",
       "      <td>90.000000</td>\n",
       "      <td>100.000000</td>\n",
       "    </tr>\n",
       "    <tr>\n",
       "      <th>mean</th>\n",
       "      <td>50.500000</td>\n",
       "      <td>37.975610</td>\n",
       "      <td>14.766667</td>\n",
       "      <td>65066.760000</td>\n",
       "    </tr>\n",
       "    <tr>\n",
       "      <th>std</th>\n",
       "      <td>29.011492</td>\n",
       "      <td>9.515388</td>\n",
       "      <td>6.889252</td>\n",
       "      <td>26189.874212</td>\n",
       "    </tr>\n",
       "    <tr>\n",
       "      <th>min</th>\n",
       "      <td>1.000000</td>\n",
       "      <td>22.000000</td>\n",
       "      <td>0.000000</td>\n",
       "      <td>11830.000000</td>\n",
       "    </tr>\n",
       "    <tr>\n",
       "      <th>25%</th>\n",
       "      <td>25.750000</td>\n",
       "      <td>27.250000</td>\n",
       "      <td>9.250000</td>\n",
       "      <td>48526.000000</td>\n",
       "    </tr>\n",
       "    <tr>\n",
       "      <th>50%</th>\n",
       "      <td>50.500000</td>\n",
       "      <td>42.000000</td>\n",
       "      <td>16.500000</td>\n",
       "      <td>73500.500000</td>\n",
       "    </tr>\n",
       "    <tr>\n",
       "      <th>75%</th>\n",
       "      <td>75.250000</td>\n",
       "      <td>45.750000</td>\n",
       "      <td>21.000000</td>\n",
       "      <td>86621.250000</td>\n",
       "    </tr>\n",
       "    <tr>\n",
       "      <th>max</th>\n",
       "      <td>100.000000</td>\n",
       "      <td>50.000000</td>\n",
       "      <td>25.000000</td>\n",
       "      <td>98180.000000</td>\n",
       "    </tr>\n",
       "  </tbody>\n",
       "</table>\n",
       "</div>"
      ],
      "text/plain": [
       "       Employee Id        Age  Experience        Salary\n",
       "count   100.000000  82.000000   90.000000    100.000000\n",
       "mean     50.500000  37.975610   14.766667  65066.760000\n",
       "std      29.011492   9.515388    6.889252  26189.874212\n",
       "min       1.000000  22.000000    0.000000  11830.000000\n",
       "25%      25.750000  27.250000    9.250000  48526.000000\n",
       "50%      50.500000  42.000000   16.500000  73500.500000\n",
       "75%      75.250000  45.750000   21.000000  86621.250000\n",
       "max     100.000000  50.000000   25.000000  98180.000000"
      ]
     },
     "execution_count": 19,
     "metadata": {},
     "output_type": "execute_result"
    }
   ],
   "source": [
    "dataset.describe()"
   ]
  },
  {
   "cell_type": "code",
   "execution_count": null,
   "id": "3a85bef5",
   "metadata": {
    "id": "3a85bef5",
    "outputId": "a1bd6776-546d-4453-96af-14bc8c3ebf52"
   },
   "outputs": [
    {
     "data": {
      "image/png": "[encoded data removed]",
      "text/plain": [
       "<Figure size 640x480 with 1 Axes>"
      ]
     },
     "metadata": {},
     "output_type": "display_data"
    },
    {
     "data": {
      "image/png": "[encoded data removed]",
      "text/plain": [
       "<Figure size 640x480 with 1 Axes>"
      ]
     },
     "metadata": {},
     "output_type": "display_data"
    },
    {
     "data": {
      "image/png": "[encoded data removed]",
      "text/plain": [
       "<Figure size 640x480 with 1 Axes>"
      ]
     },
     "metadata": {},
     "output_type": "display_data"
    }
   ],
   "source": [
    "def boxplots(col):\n",
    "    sns.boxplot(dataset[col])\n",
    "    plt.show()\n",
    "    \n",
    "for i in list(dataset.select_dtypes(exclude=['object']).columns)[1:]:\n",
    "    boxplots(i)"
   ]
  },
  {
   "cell_type": "code",
   "execution_count": null,
   "id": "ba29c5da",
   "metadata": {
    "id": "ba29c5da",
    "outputId": "2eefff54-c9d9-4175-eba2-d97ecbfcf88b"
   },
   "outputs": [
    {
     "data": {
      "text/plain": [
       "Employee Id    0\n",
       "First Name     0\n",
       "Last Name      0\n",
       "Department     0\n",
       "Age            0\n",
       "Experience     0\n",
       "Salary         0\n",
       "dtype: int64"
      ]
     },
     "execution_count": 26,
     "metadata": {},
     "output_type": "execute_result"
    }
   ],
   "source": [
    "dataset.isnull().sum()"
   ]
  },
  {
   "cell_type": "code",
   "execution_count": null,
   "id": "9ecfad67",
   "metadata": {
    "id": "9ecfad67",
    "outputId": "c59f5542-ed62-432e-b2fa-a425b0a1252b"
   },
   "outputs": [
    {
     "data": {
      "text/plain": [
       "Employee Id     0\n",
       "First Name      0\n",
       "Last Name       0\n",
       "Department     19\n",
       "Age            18\n",
       "Experience     10\n",
       "Salary          0\n",
       "dtype: int64"
      ]
     },
     "execution_count": 36,
     "metadata": {},
     "output_type": "execute_result"
    }
   ],
   "source": [
    "mydata.isnull().sum()"
   ]
  },
  {
   "cell_type": "code",
   "execution_count": null,
   "id": "f98906cd",
   "metadata": {
    "id": "f98906cd"
   },
   "outputs": [],
   "source": [
    "x = mydata.iloc[:,4:].values"
   ]
  },
  {
   "cell_type": "markdown",
   "id": "3a0fce55",
   "metadata": {
    "id": "3a0fce55"
   },
   "source": [
    "x"
   ]
  },
  {
   "cell_type": "code",
   "execution_count": null,
   "id": "fada2f44",
   "metadata": {
    "id": "fada2f44"
   },
   "outputs": [],
   "source": [
    "# using sklearn to handle missing value\n",
    "from sklearn.impute import SimpleImputer\n",
    "simple_imputer = SimpleImputer(missing_values=np.nan, strategy='mean')\n",
    "x = simple_imputer.fit_transform(x)"
   ]
  },
  {
   "cell_type": "code",
   "execution_count": null,
   "id": "b92849aa",
   "metadata": {
    "id": "b92849aa",
    "outputId": "cd77c4cb-34ac-4433-8526-cae554d2f72e"
   },
   "outputs": [
    {
     "data": {
      "text/html": [
       "<div>\n",
       "<style scoped>\n",
       "    .dataframe tbody tr th:only-of-type {\n",
       "        vertical-align: middle;\n",
       "    }\n",
       "\n",
       "    .dataframe tbody tr th {\n",
       "        vertical-align: top;\n",
       "    }\n",
       "\n",
       "    .dataframe thead th {\n",
       "        text-align: right;\n",
       "    }\n",
       "</style>\n",
       "<table border=\"1\" class=\"dataframe\">\n",
       "  <thead>\n",
       "    <tr style=\"text-align: right;\">\n",
       "      <th></th>\n",
       "      <th>0</th>\n",
       "      <th>1</th>\n",
       "      <th>2</th>\n",
       "    </tr>\n",
       "  </thead>\n",
       "  <tbody>\n",
       "    <tr>\n",
       "      <th>0</th>\n",
       "      <td>28.0</td>\n",
       "      <td>3.0</td>\n",
       "      <td>32889.0</td>\n",
       "    </tr>\n",
       "    <tr>\n",
       "      <th>1</th>\n",
       "      <td>22.0</td>\n",
       "      <td>1.0</td>\n",
       "      <td>15944.0</td>\n",
       "    </tr>\n",
       "    <tr>\n",
       "      <th>2</th>\n",
       "      <td>22.0</td>\n",
       "      <td>1.0</td>\n",
       "      <td>40343.0</td>\n",
       "    </tr>\n",
       "    <tr>\n",
       "      <th>3</th>\n",
       "      <td>22.0</td>\n",
       "      <td>1.0</td>\n",
       "      <td>19018.0</td>\n",
       "    </tr>\n",
       "    <tr>\n",
       "      <th>4</th>\n",
       "      <td>27.0</td>\n",
       "      <td>0.0</td>\n",
       "      <td>24795.0</td>\n",
       "    </tr>\n",
       "  </tbody>\n",
       "</table>\n",
       "</div>"
      ],
      "text/plain": [
       "      0    1        2\n",
       "0  28.0  3.0  32889.0\n",
       "1  22.0  1.0  15944.0\n",
       "2  22.0  1.0  40343.0\n",
       "3  22.0  1.0  19018.0\n",
       "4  27.0  0.0  24795.0"
      ]
     },
     "execution_count": 60,
     "metadata": {},
     "output_type": "execute_result"
    }
   ],
   "source": [
    "x = pd.DataFrame(x)\n",
    "x.head()"
   ]
  },
  {
   "cell_type": "code",
   "execution_count": null,
   "id": "0fb8af17",
   "metadata": {
    "id": "0fb8af17",
    "outputId": "554b6177-498a-493f-d60e-734d71334d7b"
   },
   "outputs": [
    {
     "data": {
      "text/html": [
       "<div>\n",
       "<style scoped>\n",
       "    .dataframe tbody tr th:only-of-type {\n",
       "        vertical-align: middle;\n",
       "    }\n",
       "\n",
       "    .dataframe tbody tr th {\n",
       "        vertical-align: top;\n",
       "    }\n",
       "\n",
       "    .dataframe thead th {\n",
       "        text-align: right;\n",
       "    }\n",
       "</style>\n",
       "<table border=\"1\" class=\"dataframe\">\n",
       "  <thead>\n",
       "    <tr style=\"text-align: right;\">\n",
       "      <th></th>\n",
       "      <th>Age</th>\n",
       "      <th>Experience</th>\n",
       "      <th>Salary</th>\n",
       "    </tr>\n",
       "  </thead>\n",
       "  <tbody>\n",
       "    <tr>\n",
       "      <th>0</th>\n",
       "      <td>28.0</td>\n",
       "      <td>3.0</td>\n",
       "      <td>32889</td>\n",
       "    </tr>\n",
       "  </tbody>\n",
       "</table>\n",
       "</div>"
      ],
      "text/plain": [
       "    Age  Experience  Salary\n",
       "0  28.0         3.0   32889"
      ]
     },
     "execution_count": 61,
     "metadata": {},
     "output_type": "execute_result"
    }
   ],
   "source": [
    "#column_label = ['Department','Age','Experience','Salary']\n",
    "df = dataset.copy()\n",
    "df = df.iloc[:,4:]\n",
    "df.head(1)"
   ]
  },
  {
   "cell_type": "code",
   "execution_count": null,
   "id": "32c8bb28",
   "metadata": {
    "id": "32c8bb28"
   },
   "outputs": [],
   "source": [
    "x.columns = "
   ]
  },
  {
   "cell_type": "code",
   "execution_count": null,
   "id": "8ee43a33",
   "metadata": {
    "id": "8ee43a33"
   },
   "outputs": [],
   "source": [
    "column_label = ['Age','Experience','Salary']\n",
    "x.columns = column_label"
   ]
  },
  {
   "cell_type": "code",
   "execution_count": null,
   "id": "7ff3d45c",
   "metadata": {
    "id": "7ff3d45c",
    "outputId": "c94c5f64-a86e-4f77-a217-ac9bdc71a617"
   },
   "outputs": [
    {
     "data": {
      "text/plain": [
       "Age           0\n",
       "Experience    0\n",
       "Salary        0\n",
       "dtype: int64"
      ]
     },
     "execution_count": 64,
     "metadata": {},
     "output_type": "execute_result"
    }
   ],
   "source": [
    "x.isnull().sum()"
   ]
  },
  {
   "cell_type": "markdown",
   "id": "31d8e189",
   "metadata": {
    "id": "31d8e189"
   },
   "source": [
    "# Encoding part "
   ]
  },
  {
   "cell_type": "code",
   "execution_count": null,
   "id": "a75ed401",
   "metadata": {
    "id": "a75ed401",
    "outputId": "81e2f9d6-83c3-4a8b-ecad-d2dd36d99d35"
   },
   "outputs": [
    {
     "data": {
      "text/html": [
       "<div>\n",
       "<style scoped>\n",
       "    .dataframe tbody tr th:only-of-type {\n",
       "        vertical-align: middle;\n",
       "    }\n",
       "\n",
       "    .dataframe tbody tr th {\n",
       "        vertical-align: top;\n",
       "    }\n",
       "\n",
       "    .dataframe thead th {\n",
       "        text-align: right;\n",
       "    }\n",
       "</style>\n",
       "<table border=\"1\" class=\"dataframe\">\n",
       "  <thead>\n",
       "    <tr style=\"text-align: right;\">\n",
       "      <th></th>\n",
       "      <th>Employee Id</th>\n",
       "      <th>First Name</th>\n",
       "      <th>Last Name</th>\n",
       "      <th>Department</th>\n",
       "      <th>Age</th>\n",
       "      <th>Experience</th>\n",
       "      <th>Salary</th>\n",
       "    </tr>\n",
       "  </thead>\n",
       "  <tbody>\n",
       "    <tr>\n",
       "      <th>0</th>\n",
       "      <td>1</td>\n",
       "      <td>Joy</td>\n",
       "      <td>Bass</td>\n",
       "      <td>Sales and Marketing</td>\n",
       "      <td>28.0</td>\n",
       "      <td>3.0</td>\n",
       "      <td>32889</td>\n",
       "    </tr>\n",
       "    <tr>\n",
       "      <th>1</th>\n",
       "      <td>2</td>\n",
       "      <td>Sheila</td>\n",
       "      <td>Garza</td>\n",
       "      <td>Sales and Marketing</td>\n",
       "      <td>22.0</td>\n",
       "      <td>1.0</td>\n",
       "      <td>15944</td>\n",
       "    </tr>\n",
       "    <tr>\n",
       "      <th>2</th>\n",
       "      <td>3</td>\n",
       "      <td>John</td>\n",
       "      <td>Bryant</td>\n",
       "      <td>Customer Relations</td>\n",
       "      <td>22.0</td>\n",
       "      <td>1.0</td>\n",
       "      <td>40343</td>\n",
       "    </tr>\n",
       "    <tr>\n",
       "      <th>3</th>\n",
       "      <td>4</td>\n",
       "      <td>Christian</td>\n",
       "      <td>Farley</td>\n",
       "      <td>Customer Relations</td>\n",
       "      <td>22.0</td>\n",
       "      <td>1.0</td>\n",
       "      <td>19018</td>\n",
       "    </tr>\n",
       "    <tr>\n",
       "      <th>4</th>\n",
       "      <td>5</td>\n",
       "      <td>Colorado</td>\n",
       "      <td>Bowen</td>\n",
       "      <td>Accounting</td>\n",
       "      <td>27.0</td>\n",
       "      <td>0.0</td>\n",
       "      <td>24795</td>\n",
       "    </tr>\n",
       "  </tbody>\n",
       "</table>\n",
       "</div>"
      ],
      "text/plain": [
       "   Employee Id First Name Last Name           Department   Age  Experience  \\\n",
       "0            1        Joy      Bass  Sales and Marketing  28.0         3.0   \n",
       "1            2     Sheila     Garza  Sales and Marketing  22.0         1.0   \n",
       "2            3       John    Bryant   Customer Relations  22.0         1.0   \n",
       "3            4  Christian    Farley   Customer Relations  22.0         1.0   \n",
       "4            5   Colorado     Bowen           Accounting  27.0         0.0   \n",
       "\n",
       "   Salary  \n",
       "0   32889  \n",
       "1   15944  \n",
       "2   40343  \n",
       "3   19018  \n",
       "4   24795  "
      ]
     },
     "execution_count": 43,
     "metadata": {},
     "output_type": "execute_result"
    }
   ],
   "source": [
    "dataset.head()"
   ]
  },
  {
   "cell_type": "code",
   "execution_count": null,
   "id": "d3454ec6",
   "metadata": {
    "id": "d3454ec6"
   },
   "outputs": [],
   "source": [
    "dataset_1 = dataset.iloc[:,3:]"
   ]
  },
  {
   "cell_type": "code",
   "execution_count": null,
   "id": "00d2c11c",
   "metadata": {
    "id": "00d2c11c",
    "outputId": "d2deabfb-bb81-41cf-aef9-d92c01b13bf8"
   },
   "outputs": [
    {
     "data": {
      "text/html": [
       "<div>\n",
       "<style scoped>\n",
       "    .dataframe tbody tr th:only-of-type {\n",
       "        vertical-align: middle;\n",
       "    }\n",
       "\n",
       "    .dataframe tbody tr th {\n",
       "        vertical-align: top;\n",
       "    }\n",
       "\n",
       "    .dataframe thead th {\n",
       "        text-align: right;\n",
       "    }\n",
       "</style>\n",
       "<table border=\"1\" class=\"dataframe\">\n",
       "  <thead>\n",
       "    <tr style=\"text-align: right;\">\n",
       "      <th></th>\n",
       "      <th>Department</th>\n",
       "      <th>Age</th>\n",
       "      <th>Experience</th>\n",
       "      <th>Salary</th>\n",
       "    </tr>\n",
       "  </thead>\n",
       "  <tbody>\n",
       "    <tr>\n",
       "      <th>0</th>\n",
       "      <td>Sales and Marketing</td>\n",
       "      <td>28.0</td>\n",
       "      <td>3.0</td>\n",
       "      <td>32889</td>\n",
       "    </tr>\n",
       "    <tr>\n",
       "      <th>1</th>\n",
       "      <td>Sales and Marketing</td>\n",
       "      <td>22.0</td>\n",
       "      <td>1.0</td>\n",
       "      <td>15944</td>\n",
       "    </tr>\n",
       "    <tr>\n",
       "      <th>2</th>\n",
       "      <td>Customer Relations</td>\n",
       "      <td>22.0</td>\n",
       "      <td>1.0</td>\n",
       "      <td>40343</td>\n",
       "    </tr>\n",
       "    <tr>\n",
       "      <th>3</th>\n",
       "      <td>Customer Relations</td>\n",
       "      <td>22.0</td>\n",
       "      <td>1.0</td>\n",
       "      <td>19018</td>\n",
       "    </tr>\n",
       "    <tr>\n",
       "      <th>4</th>\n",
       "      <td>Accounting</td>\n",
       "      <td>27.0</td>\n",
       "      <td>0.0</td>\n",
       "      <td>24795</td>\n",
       "    </tr>\n",
       "  </tbody>\n",
       "</table>\n",
       "</div>"
      ],
      "text/plain": [
       "            Department   Age  Experience  Salary\n",
       "0  Sales and Marketing  28.0         3.0   32889\n",
       "1  Sales and Marketing  22.0         1.0   15944\n",
       "2   Customer Relations  22.0         1.0   40343\n",
       "3   Customer Relations  22.0         1.0   19018\n",
       "4           Accounting  27.0         0.0   24795"
      ]
     },
     "execution_count": 45,
     "metadata": {},
     "output_type": "execute_result"
    }
   ],
   "source": [
    "dataset_1.head()"
   ]
  },
  {
   "cell_type": "code",
   "execution_count": null,
   "id": "815ad104",
   "metadata": {
    "id": "815ad104",
    "outputId": "f75462eb-116d-4c5f-f2c0-13a15feadde0"
   },
   "outputs": [
    {
     "data": {
      "text/plain": [
       "Department    0\n",
       "Age           0\n",
       "Experience    0\n",
       "Salary        0\n",
       "dtype: int64"
      ]
     },
     "execution_count": 46,
     "metadata": {},
     "output_type": "execute_result"
    }
   ],
   "source": [
    "dataset_1.isnull().sum()"
   ]
  },
  {
   "cell_type": "code",
   "execution_count": null,
   "id": "a2c64d54",
   "metadata": {
    "id": "a2c64d54",
    "outputId": "ba83d6a0-1f3a-43e2-fb5d-0d66f8e139c4"
   },
   "outputs": [
    {
     "name": "stdout",
     "output_type": "stream",
     "text": [
      "<class 'pandas.core.frame.DataFrame'>\n",
      "RangeIndex: 100 entries, 0 to 99\n",
      "Data columns (total 4 columns):\n",
      " #   Column      Non-Null Count  Dtype  \n",
      "---  ------      --------------  -----  \n",
      " 0   Department  100 non-null    object \n",
      " 1   Age         100 non-null    float64\n",
      " 2   Experience  100 non-null    float64\n",
      " 3   Salary      100 non-null    int64  \n",
      "dtypes: float64(2), int64(1), object(1)\n",
      "memory usage: 3.2+ KB\n"
     ]
    }
   ],
   "source": [
    "dataset_1.info()"
   ]
  },
  {
   "cell_type": "code",
   "execution_count": null,
   "id": "c5ad91ce",
   "metadata": {
    "id": "c5ad91ce",
    "outputId": "39ea4f93-7ef6-4b23-8843-00e125b7dccc"
   },
   "outputs": [
    {
     "data": {
      "text/plain": [
       "Sales and Marketing    49\n",
       "Accounting             27\n",
       "Customer Relations     24\n",
       "Name: Department, dtype: int64"
      ]
     },
     "execution_count": 48,
     "metadata": {},
     "output_type": "execute_result"
    }
   ],
   "source": [
    "dataset_1['Department'].value_counts()"
   ]
  },
  {
   "cell_type": "code",
   "execution_count": null,
   "id": "f634eae9",
   "metadata": {
    "id": "f634eae9"
   },
   "outputs": [],
   "source": [
    "# Label encoder\n",
    "dataset_1['Department'] = dataset_1['Department'].astype('category')\n",
    "dataset_1['Department'] = dataset_1['Department'].cat.codes"
   ]
  },
  {
   "cell_type": "code",
   "execution_count": null,
   "id": "bbb2ff56",
   "metadata": {
    "id": "bbb2ff56",
    "outputId": "aef24cac-f4cd-40f8-ae7b-9782478d99c8"
   },
   "outputs": [
    {
     "data": {
      "text/html": [
       "<div>\n",
       "<style scoped>\n",
       "    .dataframe tbody tr th:only-of-type {\n",
       "        vertical-align: middle;\n",
       "    }\n",
       "\n",
       "    .dataframe tbody tr th {\n",
       "        vertical-align: top;\n",
       "    }\n",
       "\n",
       "    .dataframe thead th {\n",
       "        text-align: right;\n",
       "    }\n",
       "</style>\n",
       "<table border=\"1\" class=\"dataframe\">\n",
       "  <thead>\n",
       "    <tr style=\"text-align: right;\">\n",
       "      <th></th>\n",
       "      <th>Department</th>\n",
       "      <th>Age</th>\n",
       "      <th>Experience</th>\n",
       "      <th>Salary</th>\n",
       "    </tr>\n",
       "  </thead>\n",
       "  <tbody>\n",
       "    <tr>\n",
       "      <th>0</th>\n",
       "      <td>2</td>\n",
       "      <td>28.0</td>\n",
       "      <td>3.0</td>\n",
       "      <td>32889</td>\n",
       "    </tr>\n",
       "    <tr>\n",
       "      <th>1</th>\n",
       "      <td>2</td>\n",
       "      <td>22.0</td>\n",
       "      <td>1.0</td>\n",
       "      <td>15944</td>\n",
       "    </tr>\n",
       "    <tr>\n",
       "      <th>2</th>\n",
       "      <td>1</td>\n",
       "      <td>22.0</td>\n",
       "      <td>1.0</td>\n",
       "      <td>40343</td>\n",
       "    </tr>\n",
       "    <tr>\n",
       "      <th>3</th>\n",
       "      <td>1</td>\n",
       "      <td>22.0</td>\n",
       "      <td>1.0</td>\n",
       "      <td>19018</td>\n",
       "    </tr>\n",
       "    <tr>\n",
       "      <th>4</th>\n",
       "      <td>0</td>\n",
       "      <td>27.0</td>\n",
       "      <td>0.0</td>\n",
       "      <td>24795</td>\n",
       "    </tr>\n",
       "  </tbody>\n",
       "</table>\n",
       "</div>"
      ],
      "text/plain": [
       "   Department   Age  Experience  Salary\n",
       "0           2  28.0         3.0   32889\n",
       "1           2  22.0         1.0   15944\n",
       "2           1  22.0         1.0   40343\n",
       "3           1  22.0         1.0   19018\n",
       "4           0  27.0         0.0   24795"
      ]
     },
     "execution_count": 51,
     "metadata": {},
     "output_type": "execute_result"
    }
   ],
   "source": [
    "dataset_1.head()"
   ]
  },
  {
   "cell_type": "code",
   "execution_count": null,
   "id": "dfcd6da2",
   "metadata": {
    "id": "dfcd6da2",
    "outputId": "511f9109-065c-4eb4-f3cb-d971ee27f3d2"
   },
   "outputs": [
    {
     "data": {
      "text/html": [
       "<div>\n",
       "<style scoped>\n",
       "    .dataframe tbody tr th:only-of-type {\n",
       "        vertical-align: middle;\n",
       "    }\n",
       "\n",
       "    .dataframe tbody tr th {\n",
       "        vertical-align: top;\n",
       "    }\n",
       "\n",
       "    .dataframe thead th {\n",
       "        text-align: right;\n",
       "    }\n",
       "</style>\n",
       "<table border=\"1\" class=\"dataframe\">\n",
       "  <thead>\n",
       "    <tr style=\"text-align: right;\">\n",
       "      <th></th>\n",
       "      <th>Department</th>\n",
       "      <th>Age</th>\n",
       "      <th>Experience</th>\n",
       "      <th>Salary</th>\n",
       "    </tr>\n",
       "  </thead>\n",
       "  <tbody>\n",
       "    <tr>\n",
       "      <th>95</th>\n",
       "      <td>2</td>\n",
       "      <td>47.0</td>\n",
       "      <td>22.0</td>\n",
       "      <td>79077</td>\n",
       "    </tr>\n",
       "    <tr>\n",
       "      <th>96</th>\n",
       "      <td>2</td>\n",
       "      <td>46.0</td>\n",
       "      <td>20.0</td>\n",
       "      <td>81187</td>\n",
       "    </tr>\n",
       "    <tr>\n",
       "      <th>97</th>\n",
       "      <td>1</td>\n",
       "      <td>44.0</td>\n",
       "      <td>18.0</td>\n",
       "      <td>83847</td>\n",
       "    </tr>\n",
       "    <tr>\n",
       "      <th>98</th>\n",
       "      <td>1</td>\n",
       "      <td>47.0</td>\n",
       "      <td>22.0</td>\n",
       "      <td>89158</td>\n",
       "    </tr>\n",
       "    <tr>\n",
       "      <th>99</th>\n",
       "      <td>0</td>\n",
       "      <td>44.0</td>\n",
       "      <td>21.0</td>\n",
       "      <td>91645</td>\n",
       "    </tr>\n",
       "  </tbody>\n",
       "</table>\n",
       "</div>"
      ],
      "text/plain": [
       "    Department   Age  Experience  Salary\n",
       "95           2  47.0        22.0   79077\n",
       "96           2  46.0        20.0   81187\n",
       "97           1  44.0        18.0   83847\n",
       "98           1  47.0        22.0   89158\n",
       "99           0  44.0        21.0   91645"
      ]
     },
     "execution_count": 53,
     "metadata": {},
     "output_type": "execute_result"
    }
   ],
   "source": [
    "dataset_1.tail()"
   ]
  },
  {
   "cell_type": "code",
   "execution_count": null,
   "id": "7862aa6a",
   "metadata": {
    "id": "7862aa6a"
   },
   "outputs": [],
   "source": [
    "# One Hot Encoder\n",
    "dataset_1 = pd.get_dummies(dataset_1, columns=['Department'])"
   ]
  },
  {
   "cell_type": "markdown",
   "id": "08851bea",
   "metadata": {
    "id": "08851bea"
   },
   "source": [
    "dataset_1"
   ]
  },
  {
   "cell_type": "code",
   "execution_count": null,
   "id": "b565456b",
   "metadata": {
    "id": "b565456b"
   },
   "outputs": [],
   "source": [
    "# Dummy variable\n",
    "dataset_1 = dataset_1.drop(['Department_2'], axis=1)"
   ]
  },
  {
   "cell_type": "code",
   "execution_count": null,
   "id": "69c2458d",
   "metadata": {
    "id": "69c2458d",
    "outputId": "fd43d78d-7ccb-4dca-f9ae-9dcefd647b5b"
   },
   "outputs": [
    {
     "data": {
      "text/html": [
       "<div>\n",
       "<style scoped>\n",
       "    .dataframe tbody tr th:only-of-type {\n",
       "        vertical-align: middle;\n",
       "    }\n",
       "\n",
       "    .dataframe tbody tr th {\n",
       "        vertical-align: top;\n",
       "    }\n",
       "\n",
       "    .dataframe thead th {\n",
       "        text-align: right;\n",
       "    }\n",
       "</style>\n",
       "<table border=\"1\" class=\"dataframe\">\n",
       "  <thead>\n",
       "    <tr style=\"text-align: right;\">\n",
       "      <th></th>\n",
       "      <th>Age</th>\n",
       "      <th>Experience</th>\n",
       "      <th>Salary</th>\n",
       "      <th>Department_0</th>\n",
       "      <th>Department_1</th>\n",
       "    </tr>\n",
       "  </thead>\n",
       "  <tbody>\n",
       "    <tr>\n",
       "      <th>0</th>\n",
       "      <td>28.0</td>\n",
       "      <td>3.0</td>\n",
       "      <td>32889</td>\n",
       "      <td>0</td>\n",
       "      <td>0</td>\n",
       "    </tr>\n",
       "    <tr>\n",
       "      <th>1</th>\n",
       "      <td>22.0</td>\n",
       "      <td>1.0</td>\n",
       "      <td>15944</td>\n",
       "      <td>0</td>\n",
       "      <td>0</td>\n",
       "    </tr>\n",
       "    <tr>\n",
       "      <th>2</th>\n",
       "      <td>22.0</td>\n",
       "      <td>1.0</td>\n",
       "      <td>40343</td>\n",
       "      <td>0</td>\n",
       "      <td>1</td>\n",
       "    </tr>\n",
       "    <tr>\n",
       "      <th>3</th>\n",
       "      <td>22.0</td>\n",
       "      <td>1.0</td>\n",
       "      <td>19018</td>\n",
       "      <td>0</td>\n",
       "      <td>1</td>\n",
       "    </tr>\n",
       "    <tr>\n",
       "      <th>4</th>\n",
       "      <td>27.0</td>\n",
       "      <td>0.0</td>\n",
       "      <td>24795</td>\n",
       "      <td>1</td>\n",
       "      <td>0</td>\n",
       "    </tr>\n",
       "  </tbody>\n",
       "</table>\n",
       "</div>"
      ],
      "text/plain": [
       "    Age  Experience  Salary  Department_0  Department_1\n",
       "0  28.0         3.0   32889             0             0\n",
       "1  22.0         1.0   15944             0             0\n",
       "2  22.0         1.0   40343             0             1\n",
       "3  22.0         1.0   19018             0             1\n",
       "4  27.0         0.0   24795             1             0"
      ]
     },
     "execution_count": 57,
     "metadata": {},
     "output_type": "execute_result"
    }
   ],
   "source": [
    "dataset_1.head()"
   ]
  },
  {
   "cell_type": "code",
   "execution_count": null,
   "id": "522ea082",
   "metadata": {
    "id": "522ea082"
   },
   "outputs": [],
   "source": []
  },
  {
   "cell_type": "markdown",
   "id": "b430b98c",
   "metadata": {
    "id": "b430b98c"
   },
   "source": [
    "# Feature Scaling \n",
    "# 1) Standarisation\n",
    "# 2) Normalization"
   ]
  },
  {
   "cell_type": "code",
   "execution_count": null,
   "id": "d8a9d549",
   "metadata": {
    "id": "d8a9d549"
   },
   "outputs": [],
   "source": [
    "# StandardScaler\n",
    "from sklearn.preprocessing import StandardScaler\n",
    "sc_x = StandardScaler()\n",
    "x_fs_stand = sc_x.fit_transform(dataset_1)"
   ]
  },
  {
   "cell_type": "code",
   "execution_count": null,
   "id": "8650db43",
   "metadata": {
    "id": "8650db43",
    "outputId": "3f3214cc-ed4d-4e18-e153-416d4d57a749"
   },
   "outputs": [
    {
     "data": {
      "text/plain": [
       "array([[-1.16485118e+00, -1.81044925e+00, -1.23482325e+00,\n",
       "        -6.08163641e-01, -5.61951487e-01],\n",
       "       [-1.86547071e+00, -2.11817433e+00, -1.88508853e+00,\n",
       "        -6.08163641e-01, -5.61951487e-01],\n",
       "       [-1.86547071e+00, -2.11817433e+00, -9.48775604e-01,\n",
       "        -6.08163641e-01,  1.77951304e+00],\n",
       "       [-1.86547071e+00, -2.11817433e+00, -1.76712361e+00,\n",
       "        -6.08163641e-01,  1.77951304e+00],\n",
       "       [-1.28162110e+00, -2.27203688e+00, -1.54543093e+00,\n",
       "         1.64429429e+00, -5.61951487e-01],\n",
       "       [-1.39839102e+00, -1.50272416e+00, -1.90646343e+00,\n",
       "         1.64429429e+00, -5.61951487e-01],\n",
       "       [-1.63193087e+00, -1.34886162e+00, -1.18769869e+00,\n",
       "        -6.08163641e-01,  1.77951304e+00],\n",
       "       [-1.04808125e+00, -1.96431179e+00, -1.87914039e+00,\n",
       "        -6.08163641e-01,  1.77951304e+00],\n",
       "       [-1.04808125e+00, -1.50272416e+00, -8.81158761e-01,\n",
       "        -6.08163641e-01, -5.61951487e-01],\n",
       "       [-9.31311332e-01, -1.34886162e+00, -2.04062262e+00,\n",
       "        -6.08163641e-01,  1.77951304e+00],\n",
       "       [-1.39839102e+00, -1.50272416e+00, -1.16582491e+00,\n",
       "         1.64429429e+00, -5.61951487e-01],\n",
       "       [-1.39839102e+00, -1.34886162e+00, -1.59324625e+00,\n",
       "        -6.08163641e-01, -5.61951487e-01],\n",
       "       [-1.63193087e+00, -1.50272416e+00, -1.37984258e+00,\n",
       "         1.64429429e+00, -5.61951487e-01],\n",
       "       [-1.86547071e+00, -1.96431179e+00, -1.21387047e+00,\n",
       "         1.64429429e+00, -5.61951487e-01],\n",
       "       [-1.51516094e+00, -1.81044925e+00, -2.04296350e+00,\n",
       "        -6.08163641e-01, -5.61951487e-01],\n",
       "       [-1.51516094e+00,  2.73314780e-16, -8.05943657e-01,\n",
       "         1.64429429e+00, -5.61951487e-01],\n",
       "       [-1.86547071e+00,  2.73314780e-16, -1.98785692e+00,\n",
       "        -6.08163641e-01,  1.77951304e+00],\n",
       "       [-1.51516094e+00,  2.73314780e-16, -1.85872487e+00,\n",
       "         1.64429429e+00, -5.61951487e-01],\n",
       "       [-1.28162110e+00,  2.73314780e-16, -1.35006354e+00,\n",
       "         1.64429429e+00, -5.61951487e-01],\n",
       "       [-1.51516094e+00,  2.73314780e-16, -1.32788275e+00,\n",
       "        -6.08163641e-01, -5.61951487e-01],\n",
       "       [-1.86547071e+00,  2.73314780e-16, -1.92350195e+00,\n",
       "        -6.08163641e-01, -5.61951487e-01],\n",
       "       [-1.86547071e+00,  2.73314780e-16, -1.78193638e+00,\n",
       "        -6.08163641e-01, -5.61951487e-01],\n",
       "       [-1.63193087e+00,  2.73314780e-16, -1.03166572e+00,\n",
       "        -6.08163641e-01, -5.61951487e-01],\n",
       "       [-1.28162110e+00,  2.73314780e-16, -8.43244208e-01,\n",
       "        -6.08163641e-01, -5.61951487e-01],\n",
       "       [-1.86547071e+00,  2.73314780e-16, -1.47720009e+00,\n",
       "        -6.08163641e-01, -5.61951487e-01],\n",
       "       [-5.81001565e-01, -2.71823825e-01, -5.31063151e-01,\n",
       "        -6.08163641e-01, -5.61951487e-01],\n",
       "       [-2.30691798e-01, -1.19499908e+00, -2.74948046e-01,\n",
       "        -6.08163641e-01, -5.61951487e-01],\n",
       "       [-3.47461720e-01, -7.33411452e-01, -4.15746116e-01,\n",
       "        -6.08163641e-01, -5.61951487e-01],\n",
       "       [-5.81001565e-01, -4.25686367e-01,  1.89697098e-01,\n",
       "        -6.08163641e-01, -5.61951487e-01],\n",
       "       [-9.31311332e-01, -1.17961283e-01,  3.69023721e-01,\n",
       "        -6.08163641e-01, -5.61951487e-01],\n",
       "       [ 2.36387892e-01,  3.59012599e-02, -4.29791385e-01,\n",
       "        -6.08163641e-01, -5.61951487e-01],\n",
       "       [ 1.19617969e-01, -4.25686367e-01, -1.89947303e-01,\n",
       "        -6.08163641e-01, -5.61951487e-01],\n",
       "       [ 8.29700201e-16, -8.87273995e-01,  2.68174082e-01,\n",
       "        -6.08163641e-01, -5.61951487e-01],\n",
       "       [ 8.29700201e-16, -1.19499908e+00, -5.77688840e-01,\n",
       "        -6.08163641e-01, -5.61951487e-01],\n",
       "       [ 8.29700201e-16,  3.59012599e-02, -5.73659460e-01,\n",
       "        -6.08163641e-01, -5.61951487e-01],\n",
       "       [ 8.29700201e-16, -5.79548910e-01,  2.78266721e-01,\n",
       "        -6.08163641e-01, -5.61951487e-01],\n",
       "       [ 8.29700201e-16, -7.33411452e-01, -4.31288013e-01,\n",
       "        -6.08163641e-01, -5.61951487e-01],\n",
       "       [ 8.29700201e-16, -1.19499908e+00, -2.57295521e-01,\n",
       "        -6.08163641e-01, -5.61951487e-01],\n",
       "       [ 8.29700201e-16, -2.71823825e-01, -6.43073791e-02,\n",
       "        -6.08163641e-01, -5.61951487e-01],\n",
       "       [ 8.29700201e-16, -8.87273995e-01, -7.99644008e-02,\n",
       "        -6.08163641e-01, -5.61951487e-01],\n",
       "       [ 8.29700201e-16, -1.04113654e+00,  3.34722564e-02,\n",
       "        -6.08163641e-01,  1.77951304e+00],\n",
       "       [ 8.29700201e-16, -4.25686367e-01, -5.12374500e-01,\n",
       "         1.64429429e+00, -5.61951487e-01],\n",
       "       [ 8.29700201e-16, -8.87273995e-01, -4.15093740e-01,\n",
       "         1.64429429e+00, -5.61951487e-01],\n",
       "       [ 8.29700201e-16, -4.25686367e-01, -5.60458441e-01,\n",
       "        -6.08163641e-01, -5.61951487e-01],\n",
       "       [ 8.29700201e-16,  3.59012599e-02, -2.48961995e-02,\n",
       "        -6.08163641e-01, -5.61951487e-01],\n",
       "       [ 8.29700201e-16, -1.17961283e-01, -1.88143676e-01,\n",
       "        -6.08163641e-01,  1.77951304e+00],\n",
       "       [ 8.29700201e-16, -7.33411452e-01,  5.60751627e-02,\n",
       "        -6.08163641e-01, -5.61951487e-01],\n",
       "       [ 8.29700201e-16, -1.04113654e+00, -2.98894079e-01,\n",
       "        -6.08163641e-01,  1.77951304e+00],\n",
       "       [ 8.29700201e-16, -4.25686367e-01,  2.50982058e-01,\n",
       "        -6.08163641e-01,  1.77951304e+00],\n",
       "       [ 8.29700201e-16,  3.59012599e-02, -1.47542869e-01,\n",
       "        -6.08163641e-01,  1.77951304e+00],\n",
       "       [ 2.84804689e-03, -1.17961283e-01,  1.27452762e-01,\n",
       "        -6.08163641e-01, -5.61951487e-01],\n",
       "       [ 3.53157814e-01,  1.57452668e+00,  1.13733066e+00,\n",
       "         1.64429429e+00, -5.61951487e-01],\n",
       "       [ 7.03467581e-01,  3.43626345e-01,  9.37358259e-01,\n",
       "        -6.08163641e-01,  1.77951304e+00],\n",
       "       [ 3.53157814e-01,  3.43626345e-01,  1.12221089e+00,\n",
       "         1.64429429e+00, -5.61951487e-01],\n",
       "       [ 1.40408712e+00,  9.59076515e-01,  6.35039590e-01,\n",
       "        -6.08163641e-01, -5.61951487e-01],\n",
       "       [ 1.05377735e+00,  6.51351430e-01,  7.38306858e-01,\n",
       "        -6.08163641e-01, -5.61951487e-01],\n",
       "       [ 5.86697659e-01,  1.57452668e+00,  4.75284243e-01,\n",
       "         1.64429429e+00, -5.61951487e-01],\n",
       "       [ 1.17054727e+00,  1.57452668e+00,  4.54254714e-01,\n",
       "        -6.08163641e-01,  1.77951304e+00],\n",
       "       [ 9.37007426e-01,  1.11293906e+00,  9.87437703e-01,\n",
       "         1.64429429e+00, -5.61951487e-01],\n",
       "       [ 7.03467581e-01,  1.89763802e-01,  8.13330087e-01,\n",
       "        -6.08163641e-01,  1.77951304e+00],\n",
       "       [ 4.69927736e-01,  9.59076515e-01,  5.09054290e-01,\n",
       "         1.64429429e+00, -5.61951487e-01],\n",
       "       [ 7.03467581e-01,  6.51351430e-01,  7.60372513e-01,\n",
       "        -6.08163641e-01, -5.61951487e-01],\n",
       "       [ 1.28731719e+00,  1.89763802e-01,  4.39825694e-01,\n",
       "        -6.08163641e-01,  1.77951304e+00],\n",
       "       [ 7.03467581e-01,  4.97488887e-01,  7.08297566e-01,\n",
       "        -6.08163641e-01,  1.77951304e+00],\n",
       "       [ 1.28731719e+00,  1.11293906e+00,  9.28340121e-01,\n",
       "        -6.08163641e-01, -5.61951487e-01],\n",
       "       [ 7.03467581e-01,  3.43626345e-01,  3.97728261e-01,\n",
       "         1.64429429e+00, -5.61951487e-01],\n",
       "       [ 1.17054727e+00,  1.89763802e-01,  1.02857576e+00,\n",
       "        -6.08163641e-01, -5.61951487e-01],\n",
       "       [ 1.05377735e+00,  1.26680160e+00,  4.46733204e-01,\n",
       "        -6.08163641e-01,  1.77951304e+00],\n",
       "       [ 1.40408712e+00,  1.11293906e+00,  1.15720894e+00,\n",
       "        -6.08163641e-01,  1.77951304e+00],\n",
       "       [ 4.69927736e-01,  6.51351430e-01,  9.87591203e-01,\n",
       "        -6.08163641e-01, -5.61951487e-01],\n",
       "       [ 1.17054727e+00,  6.51351430e-01,  8.13944088e-01,\n",
       "         1.64429429e+00, -5.61951487e-01],\n",
       "       [ 9.37007426e-01,  1.42066414e+00,  4.70602487e-01,\n",
       "        -6.08163641e-01,  1.77951304e+00],\n",
       "       [ 4.69927736e-01,  1.26680160e+00,  7.75914410e-01,\n",
       "        -6.08163641e-01, -5.61951487e-01],\n",
       "       [ 8.20237504e-01,  1.11293906e+00,  9.92503210e-01,\n",
       "        -6.08163641e-01, -5.61951487e-01],\n",
       "       [ 1.17054727e+00,  3.43626345e-01,  9.12030724e-01,\n",
       "        -6.08163641e-01,  1.77951304e+00],\n",
       "       [ 3.53157814e-01,  1.26680160e+00,  1.18353422e+00,\n",
       "        -6.08163641e-01, -5.61951487e-01],\n",
       "       [ 1.28731719e+00,  6.51351430e-01,  1.04757141e+00,\n",
       "        -6.08163641e-01, -5.61951487e-01],\n",
       "       [ 3.53157814e-01,  1.11293906e+00,  1.10471187e+00,\n",
       "        -6.08163641e-01, -5.61951487e-01],\n",
       "       [ 4.69927736e-01,  1.42066414e+00,  7.77833163e-01,\n",
       "        -6.08163641e-01, -5.61951487e-01],\n",
       "       [ 3.53157814e-01,  1.11293906e+00,  5.69149623e-01,\n",
       "         1.64429429e+00, -5.61951487e-01],\n",
       "       [ 8.20237504e-01,  9.59076515e-01,  7.53733629e-01,\n",
       "         1.64429429e+00, -5.61951487e-01],\n",
       "       [ 5.86697659e-01,  1.89763802e-01,  8.94685199e-01,\n",
       "        -6.08163641e-01,  1.77951304e+00],\n",
       "       [ 9.37007426e-01,  4.97488887e-01,  1.07984483e+00,\n",
       "         1.64429429e+00, -5.61951487e-01],\n",
       "       [ 1.05377735e+00,  8.05213972e-01,  1.02569763e+00,\n",
       "        -6.08163641e-01, -5.61951487e-01],\n",
       "       [ 8.20237504e-01,  3.43626345e-01,  1.20364275e+00,\n",
       "         1.64429429e+00, -5.61951487e-01],\n",
       "       [ 4.69927736e-01,  3.43626345e-01,  6.99701554e-01,\n",
       "        -6.08163641e-01, -5.61951487e-01],\n",
       "       [ 7.03467581e-01,  9.59076515e-01,  1.14017041e+00,\n",
       "        -6.08163641e-01, -5.61951487e-01],\n",
       "       [ 8.20237504e-01,  6.51351430e-01,  6.60674125e-01,\n",
       "         1.64429429e+00, -5.61951487e-01],\n",
       "       [ 7.03467581e-01,  9.59076515e-01,  1.22758879e+00,\n",
       "         1.64429429e+00, -5.61951487e-01],\n",
       "       [ 1.05377735e+00,  8.05213972e-01,  8.66786536e-01,\n",
       "        -6.08163641e-01,  1.77951304e+00],\n",
       "       [ 7.03467581e-01,  6.51351430e-01,  9.52017529e-01,\n",
       "        -6.08163641e-01, -5.61951487e-01],\n",
       "       [ 7.03467581e-01,  4.97488887e-01,  1.27072235e+00,\n",
       "         1.64429429e+00, -5.61951487e-01],\n",
       "       [ 3.53157814e-01,  3.43626345e-01,  7.33663476e-01,\n",
       "        -6.08163641e-01, -5.61951487e-01],\n",
       "       [ 1.17054727e+00,  9.59076515e-01,  5.54221728e-01,\n",
       "         1.64429429e+00, -5.61951487e-01],\n",
       "       [ 1.17054727e+00,  1.11293906e+00,  1.26343109e+00,\n",
       "         1.64429429e+00, -5.61951487e-01],\n",
       "       [ 1.05377735e+00,  1.11293906e+00,  5.37643705e-01,\n",
       "        -6.08163641e-01, -5.61951487e-01],\n",
       "       [ 9.37007426e-01,  8.05213972e-01,  6.18615067e-01,\n",
       "        -6.08163641e-01, -5.61951487e-01],\n",
       "       [ 7.03467581e-01,  4.97488887e-01,  7.20692708e-01,\n",
       "        -6.08163641e-01,  1.77951304e+00],\n",
       "       [ 1.05377735e+00,  1.11293906e+00,  9.24502616e-01,\n",
       "        -6.08163641e-01,  1.77951304e+00],\n",
       "       [ 7.03467581e-01,  9.59076515e-01,  1.01994137e+00,\n",
       "         1.64429429e+00, -5.61951487e-01]])"
      ]
     },
     "execution_count": 68,
     "metadata": {},
     "output_type": "execute_result"
    }
   ],
   "source": [
    "x_fs_stand"
   ]
  },
  {
   "cell_type": "code",
   "execution_count": null,
   "id": "49e042ea",
   "metadata": {
    "id": "49e042ea"
   },
   "outputs": [],
   "source": [
    "# Normalisation\n",
    "\n",
    "from sklearn.preprocessing import Normalizer\n",
    "x_nor = Normalizer()\n",
    "x_fs_nor = x_nor.fit_transform(dataset_1)"
   ]
  },
  {
   "cell_type": "code",
   "execution_count": null,
   "id": "e7ceb803",
   "metadata": {
    "id": "e7ceb803",
    "outputId": "41e0ae93-c707-424d-f43e-64e7cf1fcc53"
   },
   "outputs": [
    {
     "data": {
      "text/plain": [
       "array([[8.51348163e-04, 9.12158746e-05, 9.99999633e-01, 0.00000000e+00,\n",
       "        0.00000000e+00],\n",
       "       [1.37982809e-03, 6.27194585e-05, 9.99999046e-01, 0.00000000e+00,\n",
       "        0.00000000e+00],\n",
       "       [5.45323767e-04, 2.47874439e-05, 9.99999851e-01, 0.00000000e+00,\n",
       "        2.47874439e-05],\n",
       "       [1.15679804e-03, 5.25817293e-05, 9.99999328e-01, 0.00000000e+00,\n",
       "        5.25817293e-05],\n",
       "       [1.08892857e-03, 0.00000000e+00, 9.99999406e-01, 4.03306879e-05,\n",
       "        0.00000000e+00],\n",
       "       [1.68973559e-03, 3.24949151e-04, 9.99998517e-01, 6.49898302e-05,\n",
       "        0.00000000e+00],\n",
       "       [7.03461432e-04, 1.75865358e-04, 9.99999737e-01, 0.00000000e+00,\n",
       "        2.93108930e-05],\n",
       "       [1.80135118e-03, 1.24231116e-04, 9.99998368e-01, 0.00000000e+00,\n",
       "        6.21155580e-05],\n",
       "       [6.88754136e-04, 1.18750713e-04, 9.99999756e-01, 0.00000000e+00,\n",
       "        0.00000000e+00],\n",
       "       [2.52290813e-03, 5.04581626e-04, 9.99996687e-01, 0.00000000e+00,\n",
       "        8.40969377e-05],\n",
       "       [7.49560135e-04, 1.44146180e-04, 9.99999708e-01, 2.88292360e-05,\n",
       "        0.00000000e+00],\n",
       "       [1.10408014e-03, 2.54787726e-04, 9.99999358e-01, 0.00000000e+00,\n",
       "        0.00000000e+00],\n",
       "       [8.24458656e-04, 1.71762220e-04, 9.99999645e-01, 3.43524440e-05,\n",
       "        0.00000000e+00],\n",
       "       [6.57992977e-04, 5.98175434e-05, 9.99999781e-01, 2.99087717e-05,\n",
       "        0.00000000e+00],\n",
       "       [2.11326656e-03, 2.53591987e-04, 9.99997735e-01, 0.00000000e+00,\n",
       "        0.00000000e+00],\n",
       "       [5.67343574e-04, 3.35110937e-04, 9.99999783e-01, 2.26937429e-05,\n",
       "        0.00000000e+00],\n",
       "       [1.65837148e-03, 1.11311904e-03, 9.99998003e-01, 0.00000000e+00,\n",
       "        7.53805218e-05],\n",
       "       [1.50321459e-03, 8.87898751e-04, 9.99998474e-01, 6.01285836e-05,\n",
       "        0.00000000e+00],\n",
       "       [9.03432566e-04, 4.94099539e-04, 9.99999469e-01, 3.34604654e-05,\n",
       "        0.00000000e+00],\n",
       "       [8.20640384e-04, 4.84724920e-04, 9.99999546e-01, 0.00000000e+00,\n",
       "        0.00000000e+00],\n",
       "       [1.47225894e-03, 9.88198049e-04, 9.99998428e-01, 0.00000000e+00,\n",
       "        0.00000000e+00],\n",
       "       [1.18076308e-03, 7.92542493e-04, 9.99998989e-01, 0.00000000e+00,\n",
       "        0.00000000e+00],\n",
       "       [6.28551802e-04, 3.86733956e-04, 9.99999728e-01, 0.00000000e+00,\n",
       "        0.00000000e+00],\n",
       "       [6.26551716e-04, 3.42669642e-04, 9.99999745e-01, 0.00000000e+00,\n",
       "        0.00000000e+00],\n",
       "       [8.27907615e-04, 5.55701627e-04, 9.99999503e-01, 0.00000000e+00,\n",
       "        0.00000000e+00],\n",
       "       [6.44178810e-04, 2.53767410e-04, 9.99999760e-01, 0.00000000e+00,\n",
       "        0.00000000e+00],\n",
       "       [6.21740057e-04, 1.20893900e-04, 9.99999799e-01, 0.00000000e+00,\n",
       "        0.00000000e+00],\n",
       "       [6.45363379e-04, 1.84389537e-04, 9.99999775e-01, 0.00000000e+00,\n",
       "        0.00000000e+00],\n",
       "       [4.71361175e-04, 1.71404064e-04, 9.99999874e-01, 0.00000000e+00,\n",
       "        0.00000000e+00],\n",
       "       [4.01697803e-04, 1.87458975e-04, 9.99999902e-01, 0.00000000e+00,\n",
       "        0.00000000e+00],\n",
       "       [7.42569429e-04, 2.78463536e-04, 9.99999686e-01, 0.00000000e+00,\n",
       "        0.00000000e+00],\n",
       "       [6.48734817e-04, 1.99610713e-04, 9.99999770e-01, 0.00000000e+00,\n",
       "        0.00000000e+00],\n",
       "       [5.27036350e-04, 1.24904568e-04, 9.99999853e-01, 0.00000000e+00,\n",
       "        0.00000000e+00],\n",
       "       [7.59314547e-04, 1.39963568e-04, 9.99999702e-01, 0.00000000e+00,\n",
       "        0.00000000e+00],\n",
       "       [7.57723715e-04, 2.99293568e-04, 9.99999668e-01, 0.00000000e+00,\n",
       "        0.00000000e+00],\n",
       "       [5.25119667e-04, 1.52105954e-04, 9.99999851e-01, 0.00000000e+00,\n",
       "        0.00000000e+00],\n",
       "       [7.05498990e-04, 1.85776870e-04, 9.99999734e-01, 0.00000000e+00,\n",
       "        0.00000000e+00],\n",
       "       [6.50690543e-04, 1.19941031e-04, 9.99999781e-01, 0.00000000e+00,\n",
       "        0.00000000e+00],\n",
       "       [5.99069302e-04, 2.05076389e-04, 9.99999800e-01, 0.00000000e+00,\n",
       "        0.00000000e+00],\n",
       "       [6.02950042e-04, 1.42895675e-04, 9.99999808e-01, 0.00000000e+00,\n",
       "        0.00000000e+00],\n",
       "       [5.75920217e-04, 1.21324233e-04, 9.99999827e-01, 0.00000000e+00,\n",
       "        1.51655292e-05],\n",
       "       [7.34324635e-04, 2.32040925e-04, 9.99999703e-01, 1.93367438e-05,\n",
       "        0.00000000e+00],\n",
       "       [7.00011058e-04, 1.65898575e-04, 9.99999741e-01, 1.84331750e-05,\n",
       "        0.00000000e+00],\n",
       "       [7.52558320e-04, 2.37802629e-04, 9.99999689e-01, 0.00000000e+00,\n",
       "        0.00000000e+00],\n",
       "       [5.89518491e-04, 2.32854124e-04, 9.99999799e-01, 0.00000000e+00,\n",
       "        0.00000000e+00],\n",
       "       [6.31201402e-04, 2.32697241e-04, 9.99999774e-01, 0.00000000e+00,\n",
       "        1.66212315e-05],\n",
       "       [5.70821356e-04, 1.50312624e-04, 9.99999826e-01, 0.00000000e+00,\n",
       "        0.00000000e+00],\n",
       "       [6.63005011e-04, 1.39669649e-04, 9.99999770e-01, 0.00000000e+00,\n",
       "        1.74587061e-05],\n",
       "       [5.30333681e-04, 1.67581356e-04, 9.99999845e-01, 0.00000000e+00,\n",
       "        1.39651130e-05],\n",
       "       [6.20293380e-04, 2.45009909e-04, 9.99999777e-01, 0.00000000e+00,\n",
       "        1.63339939e-05],\n",
       "       [5.55652941e-04, 2.04714241e-04, 9.99999825e-01, 0.00000000e+00,\n",
       "        0.00000000e+00],\n",
       "       [4.32927804e-04, 2.63980368e-04, 9.99999871e-01, 1.05592147e-05,\n",
       "        0.00000000e+00],\n",
       "       [4.91658497e-04, 1.89958965e-04, 9.99999861e-01, 0.00000000e+00,\n",
       "        1.11740568e-05],\n",
       "       [4.34736459e-04, 1.80256581e-04, 9.99999889e-01, 1.06033283e-05,\n",
       "        0.00000000e+00],\n",
       "       [6.12632347e-04, 2.57305586e-04, 9.99999779e-01, 0.00000000e+00,\n",
       "        0.00000000e+00],\n",
       "       [5.57492842e-04, 2.25369447e-04, 9.99999819e-01, 0.00000000e+00,\n",
       "        0.00000000e+00],\n",
       "       [5.55182450e-04, 3.22780494e-04, 9.99999794e-01, 1.29112198e-05,\n",
       "        0.00000000e+00],\n",
       "       [6.24154636e-04, 3.25080539e-04, 9.99999752e-01, 0.00000000e+00,\n",
       "        1.30032216e-05],\n",
       "       [5.06619009e-04, 2.42296048e-04, 9.99999842e-01, 1.10134567e-05,\n",
       "        0.00000000e+00],\n",
       "       [5.10079799e-04, 1.85483563e-04, 9.99999853e-01, 0.00000000e+00,\n",
       "        1.15927227e-05],\n",
       "       [5.36179243e-04, 2.68089621e-04, 9.99999820e-01, 1.27661724e-05,\n",
       "        0.00000000e+00],\n",
       "       [5.18372698e-04, 2.23842756e-04, 9.99999841e-01, 0.00000000e+00,\n",
       "        0.00000000e+00],\n",
       "       [6.40288377e-04, 2.09073756e-04, 9.99999773e-01, 0.00000000e+00,\n",
       "        1.30671097e-05],\n",
       "       [5.26794608e-04, 2.15506885e-04, 9.99999838e-01, 0.00000000e+00,\n",
       "        1.19726047e-05],\n",
       "       [5.48970301e-04, 2.46476462e-04, 9.99999819e-01, 0.00000000e+00,\n",
       "        0.00000000e+00],\n",
       "       [5.83314438e-04, 2.25371488e-04, 9.99999804e-01, 1.32571463e-05,\n",
       "        0.00000000e+00],\n",
       "       [5.22477334e-04, 1.74159111e-04, 9.99999848e-01, 0.00000000e+00,\n",
       "        0.00000000e+00],\n",
       "       [6.12713003e-04, 2.99838278e-04, 9.99999767e-01, 0.00000000e+00,\n",
       "        1.30364469e-05],\n",
       "       [5.25088654e-04, 2.31039008e-04, 9.99999835e-01, 0.00000000e+00,\n",
       "        1.05017731e-05],\n",
       "       [4.62544818e-04, 2.09246465e-04, 9.99999871e-01, 0.00000000e+00,\n",
       "        0.00000000e+00],\n",
       "       [5.56347479e-04, 2.20220877e-04, 9.99999821e-01, 1.15905725e-05,\n",
       "        0.00000000e+00],\n",
       "       [5.94853092e-04, 3.10358135e-04, 9.99999775e-01, 0.00000000e+00,\n",
       "        1.29315890e-05],\n",
       "       [4.92460584e-04, 2.69680796e-04, 9.99999842e-01, 0.00000000e+00,\n",
       "        0.00000000e+00],\n",
       "       [4.94886101e-04, 2.41944316e-04, 9.99999848e-01, 0.00000000e+00,\n",
       "        0.00000000e+00],\n",
       "       [5.40339650e-04, 1.91370293e-04, 9.99999836e-01, 0.00000000e+00,\n",
       "        1.12570760e-05],\n",
       "       [4.27492963e-04, 2.39813125e-04, 9.99999880e-01, 0.00000000e+00,\n",
       "        0.00000000e+00],\n",
       "       [5.30503893e-04, 2.05705591e-04, 9.99999838e-01, 0.00000000e+00,\n",
       "        0.00000000e+00],\n",
       "       [4.36848669e-04, 2.34406603e-04, 9.99999877e-01, 0.00000000e+00,\n",
       "        0.00000000e+00],\n",
       "       [4.92172041e-04, 2.81241166e-04, 9.99999839e-01, 0.00000000e+00,\n",
       "        0.00000000e+00],\n",
       "       [5.13154185e-04, 2.75351026e-04, 9.99999830e-01, 1.25159557e-05,\n",
       "        0.00000000e+00],\n",
       "       [5.31236628e-04, 2.47910426e-04, 9.99999828e-01, 1.18052584e-05,\n",
       "        0.00000000e+00],\n",
       "       [4.86529845e-04, 1.81034361e-04, 9.99999865e-01, 0.00000000e+00,\n",
       "        1.13146476e-05],\n",
       "       [4.93530390e-04, 1.93120587e-04, 9.99999860e-01, 1.07289215e-05,\n",
       "        0.00000000e+00],\n",
       "       [5.12010379e-04, 2.17876757e-04, 9.99999845e-01, 0.00000000e+00,\n",
       "        0.00000000e+00],\n",
       "       [4.66650017e-04, 1.76290006e-04, 9.99999876e-01, 1.03700004e-05,\n",
       "        0.00000000e+00],\n",
       "       [5.04201606e-04, 2.04081602e-04, 9.99999852e-01, 0.00000000e+00,\n",
       "        0.00000000e+00],\n",
       "       [4.64242695e-04, 2.21570377e-04, 9.99999868e-01, 0.00000000e+00,\n",
       "        0.00000000e+00],\n",
       "       [5.46892943e-04, 2.30910354e-04, 9.99999824e-01, 1.21531765e-05,\n",
       "        0.00000000e+00],\n",
       "       [4.53346464e-04, 2.16369903e-04, 9.99999874e-01, 1.03033287e-05,\n",
       "        0.00000000e+00],\n",
       "       [5.36199056e-04, 2.28169811e-04, 9.99999830e-01, 0.00000000e+00,\n",
       "        1.14084905e-05],\n",
       "       [4.89568776e-04, 2.11404699e-04, 9.99999858e-01, 0.00000000e+00,\n",
       "        0.00000000e+00],\n",
       "       [4.48156395e-04, 1.83336707e-04, 9.99999883e-01, 1.01853726e-05,\n",
       "        0.00000000e+00],\n",
       "       [4.87022561e-04, 2.01936184e-04, 9.99999861e-01, 0.00000000e+00,\n",
       "        0.00000000e+00],\n",
       "       [6.03705110e-04, 2.64120986e-04, 9.99999783e-01, 1.25771898e-05,\n",
       "        0.00000000e+00],\n",
       "       [4.89845832e-04, 2.24512673e-04, 9.99999855e-01, 1.02051215e-05,\n",
       "        0.00000000e+00],\n",
       "       [5.94357271e-04, 2.78209786e-04, 9.99999785e-01, 0.00000000e+00,\n",
       "        0.00000000e+00],\n",
       "       [5.66593066e-04, 2.46344811e-04, 9.99999809e-01, 0.00000000e+00,\n",
       "        0.00000000e+00],\n",
       "       [5.24765262e-04, 2.14676698e-04, 9.99999839e-01, 0.00000000e+00,\n",
       "        1.19264832e-05],\n",
       "       [5.27153952e-04, 2.46752914e-04, 9.99999831e-01, 0.00000000e+00,\n",
       "        1.12160415e-05],\n",
       "       [4.80113413e-04, 2.29145038e-04, 9.99999858e-01, 1.09116685e-05,\n",
       "        0.00000000e+00]])"
      ]
     },
     "execution_count": 71,
     "metadata": {},
     "output_type": "execute_result"
    }
   ],
   "source": [
    "x_fs_nor"
   ]
  },
  {
   "cell_type": "code",
   "execution_count": null,
   "id": "3149fe7d",
   "metadata": {
    "id": "3149fe7d"
   },
   "outputs": [],
   "source": []
  },
  {
   "cell_type": "markdown",
   "id": "0d695762",
   "metadata": {
    "id": "0d695762"
   },
   "source": [
    "# EDA Cars.xlsx to handle outlie part"
   ]
  },
  {
   "cell_type": "code",
   "execution_count": null,
   "id": "fabe655c",
   "metadata": {
    "id": "fabe655c",
    "outputId": "1e12a97b-a811-42ad-b7cc-aa8c426e1546"
   },
   "outputs": [
    {
     "data": {
      "text/html": [
       "<div>\n",
       "<style scoped>\n",
       "    .dataframe tbody tr th:only-of-type {\n",
       "        vertical-align: middle;\n",
       "    }\n",
       "\n",
       "    .dataframe tbody tr th {\n",
       "        vertical-align: top;\n",
       "    }\n",
       "\n",
       "    .dataframe thead th {\n",
       "        text-align: right;\n",
       "    }\n",
       "</style>\n",
       "<table border=\"1\" class=\"dataframe\">\n",
       "  <thead>\n",
       "    <tr style=\"text-align: right;\">\n",
       "      <th></th>\n",
       "      <th>INDEX</th>\n",
       "      <th>INCOME</th>\n",
       "      <th>MARITAL STATUS</th>\n",
       "      <th>SEX</th>\n",
       "      <th>EDUCATION</th>\n",
       "      <th>JOB</th>\n",
       "      <th>TRAVEL TIME</th>\n",
       "      <th>USE</th>\n",
       "      <th>MILES CLOCKED</th>\n",
       "      <th>CAR TYPE</th>\n",
       "      <th>CAR AGE</th>\n",
       "      <th>CITY</th>\n",
       "      <th>POSTAL CODE</th>\n",
       "    </tr>\n",
       "  </thead>\n",
       "  <tbody>\n",
       "    <tr>\n",
       "      <th>0</th>\n",
       "      <td>1</td>\n",
       "      <td>125301.24250</td>\n",
       "      <td>No</td>\n",
       "      <td>F</td>\n",
       "      <td>Bachelors</td>\n",
       "      <td>Blue Collar</td>\n",
       "      <td>45.703013</td>\n",
       "      <td>Commercial</td>\n",
       "      <td>17430.0</td>\n",
       "      <td>Sports Car</td>\n",
       "      <td>7.0</td>\n",
       "      <td>Texas</td>\n",
       "      <td>42420.0</td>\n",
       "    </tr>\n",
       "    <tr>\n",
       "      <th>1</th>\n",
       "      <td>2</td>\n",
       "      <td>50815.44531</td>\n",
       "      <td>No</td>\n",
       "      <td>M</td>\n",
       "      <td>High School</td>\n",
       "      <td>NaN</td>\n",
       "      <td>20.591628</td>\n",
       "      <td>Private</td>\n",
       "      <td>18930.0</td>\n",
       "      <td>Minivan</td>\n",
       "      <td>1.0</td>\n",
       "      <td>Texas</td>\n",
       "      <td>42420.0</td>\n",
       "    </tr>\n",
       "    <tr>\n",
       "      <th>2</th>\n",
       "      <td>3</td>\n",
       "      <td>62977.82416</td>\n",
       "      <td>NaN</td>\n",
       "      <td>F</td>\n",
       "      <td>Bachelors</td>\n",
       "      <td>Clerical</td>\n",
       "      <td>33.639949</td>\n",
       "      <td>Private</td>\n",
       "      <td>NaN</td>\n",
       "      <td>SUV</td>\n",
       "      <td>1.0</td>\n",
       "      <td>Texas</td>\n",
       "      <td>42420.0</td>\n",
       "    </tr>\n",
       "    <tr>\n",
       "      <th>3</th>\n",
       "      <td>4</td>\n",
       "      <td>77099.96624</td>\n",
       "      <td>No</td>\n",
       "      <td>F</td>\n",
       "      <td>NaN</td>\n",
       "      <td>Lawyer</td>\n",
       "      <td>15.415676</td>\n",
       "      <td>NaN</td>\n",
       "      <td>18300.0</td>\n",
       "      <td>Sports Car</td>\n",
       "      <td>11.0</td>\n",
       "      <td>Texas</td>\n",
       "      <td>42420.0</td>\n",
       "    </tr>\n",
       "    <tr>\n",
       "      <th>4</th>\n",
       "      <td>5</td>\n",
       "      <td>130794.57420</td>\n",
       "      <td>No</td>\n",
       "      <td>M</td>\n",
       "      <td>High School</td>\n",
       "      <td>NaN</td>\n",
       "      <td>NaN</td>\n",
       "      <td>Commercial</td>\n",
       "      <td>28340.0</td>\n",
       "      <td>Panel Truck</td>\n",
       "      <td>10.0</td>\n",
       "      <td>Texas</td>\n",
       "      <td>42420.0</td>\n",
       "    </tr>\n",
       "  </tbody>\n",
       "</table>\n",
       "</div>"
      ],
      "text/plain": [
       "   INDEX        INCOME MARITAL STATUS SEX    EDUCATION          JOB  \\\n",
       "0      1  125301.24250             No   F    Bachelors  Blue Collar   \n",
       "1      2   50815.44531             No   M  High School          NaN   \n",
       "2      3   62977.82416            NaN   F    Bachelors     Clerical   \n",
       "3      4   77099.96624             No   F          NaN       Lawyer   \n",
       "4      5  130794.57420             No   M  High School          NaN   \n",
       "\n",
       "   TRAVEL TIME         USE  MILES CLOCKED     CAR TYPE  CAR AGE   CITY  \\\n",
       "0    45.703013  Commercial        17430.0   Sports Car      7.0  Texas   \n",
       "1    20.591628     Private        18930.0      Minivan      1.0  Texas   \n",
       "2    33.639949     Private            NaN          SUV      1.0  Texas   \n",
       "3    15.415676         NaN        18300.0   Sports Car     11.0  Texas   \n",
       "4          NaN  Commercial        28340.0  Panel Truck     10.0  Texas   \n",
       "\n",
       "   POSTAL CODE  \n",
       "0      42420.0  \n",
       "1      42420.0  \n",
       "2      42420.0  \n",
       "3      42420.0  \n",
       "4      42420.0  "
      ]
     },
     "execution_count": 72,
     "metadata": {},
     "output_type": "execute_result"
    }
   ],
   "source": [
    "cars = pd.read_excel('EDA Cars.xlsx')\n",
    "cars.head()"
   ]
  },
  {
   "cell_type": "code",
   "execution_count": null,
   "id": "0d2c1052",
   "metadata": {
    "id": "0d2c1052",
    "outputId": "e541a03c-2d19-4e0e-8662-5b8071e2a688"
   },
   "outputs": [
    {
     "data": {
      "text/plain": [
       "INDEX              0\n",
       "INCOME             0\n",
       "MARITAL STATUS    28\n",
       "SEX                6\n",
       "EDUCATION         44\n",
       "JOB               46\n",
       "TRAVEL TIME       41\n",
       "USE               53\n",
       "MILES CLOCKED     25\n",
       "CAR TYPE          10\n",
       "CAR AGE           20\n",
       "CITY               6\n",
       "POSTAL CODE        3\n",
       "dtype: int64"
      ]
     },
     "execution_count": 76,
     "metadata": {},
     "output_type": "execute_result"
    }
   ],
   "source": [
    "cars.isnull().sum()"
   ]
  },
  {
   "cell_type": "code",
   "execution_count": null,
   "id": "caa0ab63",
   "metadata": {
    "id": "caa0ab63",
    "outputId": "8d111ec6-52bc-4fe8-a349-e1b79274b32a"
   },
   "outputs": [
    {
     "data": {
      "text/plain": [
       "<AxesSubplot:ylabel='INCOME'>"
      ]
     },
     "execution_count": 77,
     "metadata": {},
     "output_type": "execute_result"
    },
    {
     "data": {
      "image/png": "[encoded data removed]",
      "text/plain": [
       "<Figure size 640x480 with 1 Axes>"
      ]
     },
     "metadata": {},
     "output_type": "display_data"
    }
   ],
   "source": [
    "sns.boxplot(y='INCOME', data=cars)"
   ]
  },
  {
   "cell_type": "code",
   "execution_count": null,
   "id": "1b3001ed",
   "metadata": {
    "id": "1b3001ed"
   },
   "outputs": [],
   "source": [
    "cars['INCOME'] = cars['INCOME'].fillna(cars['INCOME'].median())"
   ]
  },
  {
   "cell_type": "markdown",
   "id": "39cf4bf0",
   "metadata": {
    "id": "39cf4bf0"
   },
   "source": [
    "# handling outlier"
   ]
  },
  {
   "cell_type": "code",
   "execution_count": null,
   "id": "3fc3a4ea",
   "metadata": {
    "id": "3fc3a4ea"
   },
   "outputs": [],
   "source": [
    "def remove_outlier(col):\n",
    "    sorted(col)\n",
    "    Q1, Q3 = col.quantile([0.25, 0.75])\n",
    "    IQR = Q3 - Q1\n",
    "    lower_range = Q1 - (1.5 * IQR)\n",
    "    upper_range = Q3 + (1.5 * IQR)\n",
    "    return lower_range, upper_range"
   ]
  },
  {
   "cell_type": "code",
   "execution_count": null,
   "id": "48f12d9a",
   "metadata": {
    "id": "48f12d9a"
   },
   "outputs": [],
   "source": [
    "lr_income, up_income = remove_outlier(cars['INCOME'])"
   ]
  },
  {
   "cell_type": "code",
   "execution_count": null,
   "id": "6fa6ad60",
   "metadata": {
    "id": "6fa6ad60",
    "outputId": "05e417b5-66b2-4453-8b6d-7f14052b1d96"
   },
   "outputs": [
    {
     "name": "stdout",
     "output_type": "stream",
     "text": [
      "-38932.344305\n",
      "125781.512695\n"
     ]
    }
   ],
   "source": [
    "print(lr_income)\n",
    "print(up_income)"
   ]
  },
  {
   "cell_type": "code",
   "execution_count": null,
   "id": "bb6715b8",
   "metadata": {
    "id": "bb6715b8"
   },
   "outputs": [],
   "source": [
    "cars['INCOME'] = np.where(cars['INCOME'] > up_income, up_income,cars['INCOME'])\n",
    "cars['INCOME'] = np.where(cars['INCOME'] < lr_income, lr_income,cars['INCOME'])"
   ]
  },
  {
   "cell_type": "code",
   "execution_count": null,
   "id": "7bf23c26",
   "metadata": {
    "id": "7bf23c26",
    "outputId": "ed8a4f37-e48d-42cb-fc58-c1b44c9821d2"
   },
   "outputs": [
    {
     "data": {
      "image/png": "[encoded data removed]",
      "text/plain": [
       "<Figure size 640x480 with 1 Axes>"
      ]
     },
     "metadata": {},
     "output_type": "display_data"
    }
   ],
   "source": [
    "cars.boxplot(column=['INCOME'])\n",
    "plt.show()"
   ]
  },
  {
   "cell_type": "code",
   "execution_count": null,
   "id": "9d943008",
   "metadata": {
    "id": "9d943008"
   },
   "outputs": [],
   "source": [
    "cars['INCOME'] = np.where(cars['INCOME'] > up_income, 125000,cars['INCOME'])\n",
    "cars['INCOME'] = np.where(cars['INCOME'] < lr_income, lr_income,cars['INCOME'])"
   ]
  }
 ],
 "metadata": {
  "colab": {
   "provenance": []
  },
  "kernelspec": {
   "display_name": "Python 3 (ipykernel)",
   "language": "python",
   "name": "python3"
  },
  "language_info": {
   "codemirror_mode": {
    "name": "ipython",
    "version": 3
   },
   "file_extension": ".py",
   "mimetype": "text/x-python",
   "name": "python",
   "nbconvert_exporter": "python",
   "pygments_lexer": "ipython3",
   "version": "3.12.7"
  }
 },
 "nbformat": 4,
 "nbformat_minor": 5
}
