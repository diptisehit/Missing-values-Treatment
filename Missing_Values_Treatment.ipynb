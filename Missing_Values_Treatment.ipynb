{
 "cells": [
  {
   "cell_type": "markdown",
   "id": "965ad64b-a570-4f7d-ad8c-6cde7800acba",
   "metadata": {},
   "source": [
    "# What is a Missing Value?\n",
    "Missing values are data points that are absent for a specific variable in a dataset. They can be represented in various ways, such as blank cells, null values, or special symbols like “NA” or “unknown.” These missing data points pose a significant challenge in data analysis and can lead to inaccurate or biased results.\n",
    "\n",
    "# Types of Missing Values :\n",
    "\n",
    "There are three main types of missing values:\n",
    "\n",
    "1. Missing Completely at Random (MCAR): MCAR is a specific type of missing data in which the probability of a data point being missing is entirely random and independent of any other variable in the dataset. In simpler terms, whether a value is missing or not has nothing to do with the values of other variables or the characteristics of the data point itself. \n",
    "2. Missing at Random (MAR): MAR is a type of missing data where the probability of a data point missing depends on the values of other variables in the dataset, but not on the missing variable itself. This means that the missingness mechanism is not entirely random, but it can be predicted based on the available information. We can use bivariate imputations for this\n",
    "3. Missing Not at Random (MNAR): MNAR is the most challenging type of missing data to deal with. It occurs when the probability of a data point being missing is related to the missing value itself. This means that the reason for the missing data is informative and directly associated with the variable that is missing. We can use univariate imputations for this.\n",
    "\n",
    "# Methods for Identifying Missing Data :\n",
    "\n",
    "1. .isnull()\n",
    "2. .info()\n",
    "3. .isna()\n",
    "\n",
    "# Ways to solve the missing value problem :\n",
    "\n",
    "1. Remove the samples or variable which are containing missing values(if the missing data is => 25% generally or as per shareholders' instructions). In Machine Learning, Complete Case Analysis (CCA) is a technique in which all the samples containing missing values are dropped or removed from the dataset.\n",
    "2. Impute the missing values with any strategy(if the missing data is < 25%).\n",
    "\n",
    "# Types of Imputation of the missing data :\n",
    "\n",
    "1.  Univariate imputations: Here, the missing values are imputed using only the particular column of the respective missing values.For Example, if there is a missing value present in the Age column, then the missing value will only be imputed using the values of the Age column, Any of the other columns of the dataset will not be used for the imputation. Mean, median, and Most_Frequent are examples of univariate missing data imputation.\n",
    "2.  Bivariate imputations : In this, the missing value is imputed using the values of the multiple columns in the dataset. For Example, if a missing value is present in the Age column, then this missing value will be imputed using the Age column and some other columns of the dataset. KNN Imputer and Iterative Imputer are examples of multivariate imputation.\n",
    "\n",
    "# Univariate imputations: \n",
    "\n",
    "In this case first check the variable type. In case of -\n",
    "1. Numerical variable :\n",
    "   \n",
    "    a) variable having outliers : Use median to impute the missing values.\n",
    "   \n",
    "    b) variable having no outliers : Use mean to impute the missing values.\n",
    "   \n",
    "3. Categorical variable: Use mode (most frequent) to fill the missing values.\n",
    "\n",
    "# Bivariate imputations :\n",
    "\n",
    "1. KNN Imputer: Here the euclidian distance between the data points is calculated and depending upon the euclidian distance between points, the neighbors are considered for imputing the missing data. Once we have the neighbors of the missing data based on the euclidian distance, then we calculate the mean of the neighbor’s datapoint values and impute the missing value by the mean. This technique involves the calculation of the euclidian distance in it. So it requires a higher amount of computation power as compared to the normal univariate imputation.\n",
    "2. Iterative Imputer : Here in the first step all the missing data are imputed by the mean of the respective columns, and then by moving left to the right, only one sample imputed with mean is again considered as missing values and a part from the dataset is considered as training, and testing set with dependent and independent features. In the last step, a machine learning algorithm is used to train on the dummy dataset, and the missing value is imputed by the algorithm’s results. It involves the machine learning algorithm calculation in it. So Iterative Imputer is the imputation technique that requires the most time and computation power compared to the other imputation techniques. Also, it is slow but gives accurate results. One assumption for Iterative Imputer is that this technique is best suitable for the data missing at random."
   ]
  },
  {
   "cell_type": "markdown",
   "id": "dca42487-bca9-4a6a-ae99-e28cf76e1f01",
   "metadata": {},
   "source": [
    "# Example for missing value imputations :\n"
   ]
  },
  {
   "cell_type": "code",
   "execution_count": null,
   "id": "16338cc8-402f-4d68-9668-73e3a4a1c113",
   "metadata": {},
   "outputs": [],
   "source": []
  },
  {
   "cell_type": "code",
   "execution_count": null,
   "id": "72a90382-8628-48a5-9faf-da5bd8ff56df",
   "metadata": {},
   "outputs": [],
   "source": []
  },
  {
   "cell_type": "code",
   "execution_count": null,
   "id": "63528d8f-ccd3-4fac-97d4-21fd82f005db",
   "metadata": {},
   "outputs": [],
   "source": []
  },
  {
   "cell_type": "code",
   "execution_count": null,
   "id": "6f31f7fc-5d21-48fd-a36d-e42051d3356b",
   "metadata": {},
   "outputs": [],
   "source": []
  },
  {
   "cell_type": "code",
   "execution_count": null,
   "id": "e51c5d0a-f63a-4369-8c46-39bc18c91ef1",
   "metadata": {},
   "outputs": [],
   "source": []
  },
  {
   "cell_type": "code",
   "execution_count": null,
   "id": "f4bce6e4-8931-401a-9a6f-5e39214dfbec",
   "metadata": {},
   "outputs": [],
   "source": []
  },
  {
   "cell_type": "markdown",
   "id": "a463abbf-530b-47a2-b02d-77469ccd7cac",
   "metadata": {},
   "source": []
  }
 ],
 "metadata": {
  "kernelspec": {
   "display_name": "Python 3 (ipykernel)",
   "language": "python",
   "name": "python3"
  },
  "language_info": {
   "codemirror_mode": {
    "name": "ipython",
    "version": 3
   },
   "file_extension": ".py",
   "mimetype": "text/x-python",
   "name": "python",
   "nbconvert_exporter": "python",
   "pygments_lexer": "ipython3",
   "version": "3.12.7"
  }
 },
 "nbformat": 4,
 "nbformat_minor": 5
}
